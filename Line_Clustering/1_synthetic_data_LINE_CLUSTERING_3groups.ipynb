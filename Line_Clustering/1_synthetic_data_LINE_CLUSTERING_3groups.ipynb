{
 "cells": [
  {
   "cell_type": "code",
   "execution_count": 1,
   "metadata": {},
   "outputs": [
    {
     "data": {
      "image/png": "[encoded data removed]",
      "text/plain": [
       "<Figure size 432x288 with 1 Axes>"
      ]
     },
     "metadata": {
      "needs_background": "light"
     },
     "output_type": "display_data"
    },
    {
     "name": "stdout",
     "output_type": "stream",
     "text": [
      "Total number of generated points: 100\n"
     ]
    }
   ],
   "source": [
    "#######################################\n",
    "## Line Clustering - synthetic dataset with 2 lines + noise (3 groups)\n",
    "#######################################\n",
    "\n",
    "## STEP 1: GENERATE POINTS with 2 lines + noise\n",
    "\n",
    "import matplotlib.pyplot as plt\n",
    "import numpy as np\n",
    "\n",
    "np.random.seed(27)\n",
    "\n",
    "# Generate points along a line \n",
    "def y(x, m, b):\n",
    "    return m*x + b \n",
    "\n",
    "# 2 lines containing 30 points each \n",
    "X_1=[np.random.uniform(-0.5,0.5) for _ in range(30)]\n",
    "X_2=[np.random.uniform(-0.5,0.5) for _ in range(30)]\n",
    "y_1 = [y(x, -1, 0) + np.random.normal(0,0.01) for x in X_1]\n",
    "y_2 = [y(x, 0.8, 0) + np.random.normal(0,0.01) for x in X_2]\n",
    "\n",
    "# add 40 points of noise  \n",
    "x=[np.random.uniform(-0.5,0.5) for _ in range(40)]\n",
    "y=[np.random.uniform(-0.5,0.5) for _ in range(40)]\n",
    "\n",
    "# plot the result\n",
    "plt.scatter(X_1, y_1, c='g')\n",
    "plt.scatter(X_2, y_2, c='r',marker='x')\n",
    "plt.scatter(x,y, c='black',marker='^')\n",
    "#plt.savefig('2lines.png', dpi=300, bbox_inches='tight')\n",
    "plt.show()\n",
    "\n",
    "# Group the points\n",
    "Xtot= np.concatenate((X_1,X_2,x))\n",
    "Ytot= np.concatenate((y_1,y_2,y))\n",
    "points = np.column_stack((Xtot,Ytot))\n",
    "\n",
    "nb_points = len(points)\n",
    "print(\"Total number of generated points: \" + str(nb_points))\n",
    "\n",
    "# TRUE NODE LABELS - put the noise in a label numbered 0 \n",
    "trueZ = [1]*30 + [2]*30 +[0]*40\n"
   ]
  },
  {
   "cell_type": "code",
   "execution_count": 2,
   "metadata": {},
   "outputs": [
    {
     "data": {
      "text/plain": [
       "20000"
      ]
     },
     "execution_count": 2,
     "metadata": {},
     "output_type": "execute_result"
    }
   ],
   "source": [
    "## STEP 2: CREATE HYPEREDGES OF SIZE 3\n",
    "import math \n",
    "np.random.seed(4)\n",
    "\n",
    "sigma2= 0.02**2\n",
    "hyperedges_size3 = []\n",
    "\n",
    "# SIMPLE HYPERGRAPH (in the following while loop, we insert constraints to avoid both multiset of nodes and multi hyperedges)\n",
    "\n",
    "while len(hyperedges_size3) < 20000: \n",
    "    index = np.random.choice(range(nb_points),3,replace=False).tolist() # avoid multisets with replace=False\n",
    "\n",
    "    A = points[index]\n",
    "    x = A[:, 0]\n",
    "    y = A[:, 1]\n",
    "    fit = np.polyfit(x, y, deg=1, full=True)   #find residuals: are these 3 points aligned?\n",
    "    d = fit[1]\n",
    "    if math.exp(-d**2/sigma2) > 0.999:\n",
    "        index.sort()\n",
    "        if index not in hyperedges_size3:   # CONSTRAINT: avoid multiplicity of the same hyperedge\n",
    "            hyperedges_size3.append(index)\n",
    "\n",
    "len(hyperedges_size3)      # here we have 20 000 different hyperedges of size 3"
   ]
  },
  {
   "cell_type": "code",
   "execution_count": 3,
   "metadata": {},
   "outputs": [],
   "source": [
    "# CREATE .TXT FILE WITH ALL PREVIOUSLY CREATED HYPEREDGES OF SIZE 3\n",
    "with open('hypergraph_3uniform_2lines.txt', 'w') as f:\n",
    "    separator = ','\n",
    "    for item in hyperedges_size3:\n",
    "        # When we write the file, we encode hyperedges from node 1 to node n\n",
    "        item = [x+1 for x in item]\n",
    "        string = map(str, item)\n",
    "        line = separator.join(string) \n",
    "        f.writelines(line+'\\n')"
   ]
  },
  {
   "cell_type": "code",
   "execution_count": 4,
   "metadata": {},
   "outputs": [],
   "source": [
    "# Imports and auxiliary functions \n",
    "\n",
    "import os\n",
    "\n",
    "## Function: hyperedge of nodes from the same cluster line?\n",
    "## This is used to set the signal:noise-hyperedge ratio\n",
    "def lineEdge(e):\n",
    "    s = set([trueZ[i] for i in e])  \n",
    "    return (len(s)==1 and 0 not in s) # exclude group 0 as it is noise group\n"
   ]
  },
  {
   "cell_type": "code",
   "execution_count": 5,
   "metadata": {
    "tags": []
   },
   "outputs": [
    {
     "ename": "FileExistsError",
     "evalue": "[Errno 17] File exists: 'data_2linecluster/'",
     "output_type": "error",
     "traceback": [
      "\u001b[0;31m---------------------------------------------------------------------------\u001b[0m",
      "\u001b[0;31mFileExistsError\u001b[0m                           Traceback (most recent call last)",
      "\u001b[0;32m/var/folders/4k/m7l1y7zn415bxwg1svgbpfs00000gn/T/ipykernel_2849/4220037384.py\u001b[0m in \u001b[0;36m<module>\u001b[0;34m\u001b[0m\n\u001b[1;32m      7\u001b[0m \u001b[0mREP\u001b[0m \u001b[0;34m=\u001b[0m \u001b[0;36m100\u001b[0m    \u001b[0;31m#number of hypergraphs that we generate\u001b[0m\u001b[0;34m\u001b[0m\u001b[0;34m\u001b[0m\u001b[0m\n\u001b[1;32m      8\u001b[0m \u001b[0;34m\u001b[0m\u001b[0m\n\u001b[0;32m----> 9\u001b[0;31m \u001b[0mos\u001b[0m\u001b[0;34m.\u001b[0m\u001b[0mmkdir\u001b[0m\u001b[0;34m(\u001b[0m\u001b[0;34m\"data_2linecluster/\"\u001b[0m\u001b[0;34m)\u001b[0m\u001b[0;34m\u001b[0m\u001b[0;34m\u001b[0m\u001b[0m\n\u001b[0m\u001b[1;32m     10\u001b[0m \u001b[0;34m\u001b[0m\u001b[0m\n\u001b[1;32m     11\u001b[0m \u001b[0mnb_hyperedges\u001b[0m \u001b[0;34m=\u001b[0m\u001b[0;34m[\u001b[0m\u001b[0;34m]\u001b[0m\u001b[0;34m\u001b[0m\u001b[0;34m\u001b[0m\u001b[0m\n",
      "\u001b[0;31mFileExistsError\u001b[0m: [Errno 17] File exists: 'data_2linecluster/'"
     ]
    }
   ],
   "source": [
    "# Sampling of REP hypergraphs \n",
    "\n",
    "## Expected proportion of \"signal\" (same line) vs \"noise\" hyperedges is 2:1.\n",
    "mu = 0.33 ## proportion of noisy hyperedges among all to keep\n",
    "\n",
    "np.random.seed(27)\n",
    "REP = 100    #number of hypergraphs that we generate\n",
    "\n",
    "os.mkdir(\"data_2linecluster/\")\n",
    "   \n",
    "nb_hyperedges =[]\n",
    "\n",
    "for rep in range(REP): \n",
    "    \n",
    "    ## We start from our list of hyperedges - contains 20 000 hyperedges\n",
    "    x = [lineEdge(i) for i in hyperedges_size3]\n",
    "    f = x.count(False) # original list has 13 232 noise-hyperedges\n",
    "    ## Sample down true cases \n",
    "    ptrue = 0.1\n",
    "    htrue = [hyperedges_size3[i] for i in range(len(hyperedges_size3)) if x[i] and np.random.sample()<ptrue]\n",
    "    t = len(htrue) # number of true hyperedges\n",
    "\n",
    "    ## Sample down False cases to get ratio mu of noise-hyperedges               \n",
    "    pfalse = mu*t/((1-mu)*f)\n",
    "    hfalse = [hyperedges_size3[i] for i in range(len(hyperedges_size3)) if (not x[i]) and np.random.sample()<pfalse]\n",
    "    h = htrue+hfalse\n",
    "    nb_hyperedges.append(len(h))\n",
    "    # resulting sampled hypergraphs has approx 1000 hyperedges \n",
    "    \n",
    "    # Identify possibly isolated nodes ? \n",
    "    unique_nodes = set()\n",
    "    for e in h:\n",
    "        unique_nodes.update(e)\n",
    "    isolated = set(range(nb_points)).difference(unique_nodes)    \n",
    "    trueZ_rep= [trueZ[i] for i in unique_nodes]\n",
    "    #nb_nodes = len(unique_nodes)\n",
    "    #nb_isolates = nb_points - nb_nodes\n",
    "    \n",
    "    # Write down this hypergraph to analyse it with HyperSBM and with Chodrow's method\n",
    "    dirname = \"data_2linecluster/rep_\" + str(rep) +\"/\"\n",
    "    os.makedirs(dirname)\n",
    "    filename = str(dirname) +\"hyperedges.txt\"\n",
    "    with open(filename, \"w\") as fichier:\n",
    "        for edge in h: \n",
    "            fichier.write(str(','.join(str(x+1) for x in edge)) + \"\\n\") # we add +1 to count from 1 to n\n",
    "    \n",
    "    filename = str(dirname) +\"isolated.txt\"\n",
    "    with open(filename, \"w\") as fichier:\n",
    "        for node in isolated: \n",
    "            fichier.write(str(node) + \"\\n\") \n",
    "    \n",
    "    filename = str(dirname) +\"true_clusters.txt\"\n",
    "    with open(filename, \"w\") as fichier:\n",
    "        for cluster in trueZ_rep: \n",
    "            fichier.write(str(cluster) + \"\\n\") \n",
    "\n",
    "# end of generation \n",
    "\n"
   ]
  },
  {
   "cell_type": "code",
   "execution_count": 6,
   "metadata": {},
   "outputs": [
    {
     "ename": "NameError",
     "evalue": "name 'nb_hyperedges' is not defined",
     "output_type": "error",
     "traceback": [
      "\u001b[0;31m---------------------------------------------------------------------------\u001b[0m",
      "\u001b[0;31mNameError\u001b[0m                                 Traceback (most recent call last)",
      "\u001b[0;32m/var/folders/4k/m7l1y7zn415bxwg1svgbpfs00000gn/T/ipykernel_2849/493681214.py\u001b[0m in \u001b[0;36m<module>\u001b[0;34m\u001b[0m\n\u001b[0;32m----> 1\u001b[0;31m \u001b[0mprint\u001b[0m\u001b[0;34m(\u001b[0m\u001b[0mnp\u001b[0m\u001b[0;34m.\u001b[0m\u001b[0mmean\u001b[0m\u001b[0;34m(\u001b[0m\u001b[0mnb_hyperedges\u001b[0m\u001b[0;34m)\u001b[0m\u001b[0;34m)\u001b[0m\u001b[0;34m\u001b[0m\u001b[0;34m\u001b[0m\u001b[0m\n\u001b[0m",
      "\u001b[0;31mNameError\u001b[0m: name 'nb_hyperedges' is not defined"
     ]
    }
   ],
   "source": [
    "print(np.mean(nb_hyperedges))"
   ]
  },
  {
   "cell_type": "code",
   "execution_count": null,
   "metadata": {},
   "outputs": [],
   "source": []
  }
 ],
 "metadata": {
  "kernelspec": {
   "display_name": "Python 3 (ipykernel)",
   "language": "python",
   "name": "python3"
  },
  "language_info": {
   "codemirror_mode": {
    "name": "ipython",
    "version": 3
   },
   "file_extension": ".py",
   "mimetype": "text/x-python",
   "name": "python",
   "nbconvert_exporter": "python",
   "pygments_lexer": "ipython3",
   "version": "3.9.7"
  }
 },
 "nbformat": 4,
 "nbformat_minor": 4
}
