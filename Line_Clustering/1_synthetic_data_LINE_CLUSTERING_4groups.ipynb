{
 "cells": [
  {
   "cell_type": "code",
   "execution_count": 12,
   "metadata": {},
   "outputs": [
    {
     "data": {
      "image/png": "[encoded data removed]",
      "text/plain": [
       "<Figure size 432x288 with 1 Axes>"
      ]
     },
     "metadata": {
      "needs_background": "light"
     },
     "output_type": "display_data"
    },
    {
     "name": "stdout",
     "output_type": "stream",
     "text": [
      "Total number of generated points: 150\n"
     ]
    }
   ],
   "source": [
    "#######################################\n",
    "## Line Clustering - synthetic dataset with 3 lines + noise (3 groups)\n",
    "#######################################\n",
    "\n",
    "## STEP 1: GENERATE POINTS with 3 lines + noise\n",
    "\n",
    "import matplotlib.pyplot as plt\n",
    "import numpy as np\n",
    "\n",
    "np.random.seed(27)\n",
    "\n",
    "# Generate points along a line \n",
    "def y(x, m, b):\n",
    "    return m*x + b \n",
    "\n",
    "# 3 lines containing 30 points each \n",
    "X_1=[np.random.uniform(-0.5,0.5) for _ in range(30)]\n",
    "X_2=[np.random.uniform(-0.5,0.5) for _ in range(30)]\n",
    "X_3=[np.random.uniform(-0.5,0.5) for _ in range(30)]\n",
    "y_1 = [y(x, -1, 0) + np.random.normal(0,0.01) for x in X_1]\n",
    "y_2 = [y(x, 0.8, 0) + np.random.normal(0,0.01) for x in X_2]\n",
    "y_3 = [y(x, 0.02, 0) + np.random.normal(0,0.01) for x in X_3]\n",
    "\n",
    "\n",
    "# add 60 points of noise  \n",
    "x=[np.random.uniform(-0.5,0.5) for _ in range(60)]\n",
    "y=[np.random.uniform(-0.5,0.5) for _ in range(60)]\n",
    "\n",
    "# plot the result\n",
    "plt.scatter(X_1, y_1, c='g')\n",
    "plt.scatter(X_2, y_2, c='r',marker='x')\n",
    "plt.scatter(X_3, y_3, c='b',marker='D')\n",
    "plt.scatter(x,y, c='black',marker='^')\n",
    "plt.savefig('3lines.png',  dpi=300, bbox_inches='tight')\n",
    "plt.show()\n",
    "\n",
    "\n",
    "# Group the points\n",
    "Xtot= np.concatenate((X_1,X_2,X_3,x))\n",
    "Ytot= np.concatenate((y_1,y_2,y_3,y))\n",
    "points = np.column_stack((Xtot,Ytot))\n",
    "\n",
    "nb_points = len(points)\n",
    "print(\"Total number of generated points: \" + str(nb_points))\n",
    "\n",
    "\n",
    "# TRUE NODE LABELS - put the noise in a label numbered 0 \n",
    "trueZ = [1]*30 + [2]*30 +[3]*30 +[0]*60\n",
    "\n"
   ]
  },
  {
   "cell_type": "code",
   "execution_count": 13,
   "metadata": {},
   "outputs": [
    {
     "data": {
      "text/plain": [
       "20000"
      ]
     },
     "execution_count": 13,
     "metadata": {},
     "output_type": "execute_result"
    }
   ],
   "source": [
    "## STEP 2: CREATE HYPEREDGES OF SIZE 3\n",
    "import math \n",
    "np.random.seed(4)\n",
    "\n",
    "sigma2= 0.02**2\n",
    "hyperedges_size3 = []\n",
    "\n",
    "# SIMPLE HYPERGRAPH (in the following while loop, we insert constraints to avoid both multiset of nodes and multi hyperedges)\n",
    "\n",
    "while len(hyperedges_size3) < 20000: \n",
    "    index = np.random.choice(range(nb_points),3,replace=False).tolist()\n",
    "\n",
    "    A = points[index]\n",
    "    x = A[:, 0]\n",
    "    y = A[:, 1]\n",
    "    fit = np.polyfit(x, y, deg=1, full=True)   #find residuals: are these 3 points aligned?\n",
    "    d = fit[1]\n",
    "    if math.exp(-d**2/sigma2) > 0.999:\n",
    "        index.sort()\n",
    "        if index not in hyperedges_size3:   # CONSTRAINT: avoid multiplicity of the same hyperedge\n",
    "            hyperedges_size3.append(index)\n",
    "\n",
    "len(hyperedges_size3)       # here we have 20 000 different hyperedges of size 3"
   ]
  },
  {
   "cell_type": "code",
   "execution_count": 3,
   "metadata": {},
   "outputs": [],
   "source": [
    "# CREATE .TXT FILE WITH ALL PREVIOUSLY CREATED HYPEREDGES OF SIZE 3\n",
    "with open('hypergraph_3uniform_3lines.txt', 'w') as f:\n",
    "    separator = ','\n",
    "    for item in hyperedges_size3:\n",
    "        # When we write the file, we encode hyperedges from node 1 to node n\n",
    "        item = [x+1 for x in item]\n",
    "        string = map(str, item)\n",
    "        line = separator.join(string) \n",
    "        f.writelines(line+'\\n')"
   ]
  },
  {
   "cell_type": "code",
   "execution_count": 14,
   "metadata": {},
   "outputs": [],
   "source": [
    "# Imports and auxiliary functions \n",
    "\n",
    "import os\n",
    "\n",
    "## Function: is this hyperedge from the same line?\n",
    "## This is used to set the noise-hyperedge ratio\n",
    "def lineEdge(e):\n",
    "    s = set([trueZ[i] for i in e])  \n",
    "    return (len(s)==1 and 0 not in s) # exclude group 0 as it is noise group\n",
    "\n"
   ]
  },
  {
   "cell_type": "code",
   "execution_count": 15,
   "metadata": {
    "tags": []
   },
   "outputs": [],
   "source": [
    "# Sampling of REP hypergraphs \n",
    "\n",
    "## Expected proportion of \"signal\" (same line) vs \"noise\" hyperedges is 2:1.\n",
    "mu = 0.33 ## proportion of noisy hyperedges among all to keep\n",
    "\n",
    "## We consider 4 different regimes for the mix of hyperedge sizes: 100% 3-edges, 75% 3-edges, balanced betweeen 3 and 4-edges or 25% 3-edges.\n",
    "\n",
    "np.random.seed()\n",
    "REP = 100    #number of hypergraphs that we generate\n",
    "\n",
    "os.mkdir(\"data_3linecluster/\")\n",
    "nb_hyperedges =[]\n",
    "\n",
    "for rep in range(REP): \n",
    "\n",
    "    ## We start from our list of hyperedges - contains 20 000 hyperedges\n",
    "    x = [lineEdge(i) for i in hyperedges_size3]\n",
    "    f = x.count(False) # original list has 13 232 noise-hyperedges\n",
    "    ## Sample down true cases \n",
    "    ptrue = 0.1\n",
    "    htrue = [hyperedges_size3[i] for i in range(len(hyperedges_size3)) if x[i] and np.random.sample()<ptrue]\n",
    "    t = len(htrue) # number of true hyperedges\n",
    "\n",
    "    ## Sample down False cases to get ratio mu of noise-hyperedges               \n",
    "    pfalse = mu*t/((1-mu)*f)\n",
    "    hfalse = [hyperedges_size3[i] for i in range(len(hyperedges_size3)) if (not x[i]) and np.random.sample()<pfalse]\n",
    "    h = htrue+hfalse\n",
    "    nb_hyperedges.append(len(h))\n",
    "    # resulting sampled hypergraphs has approx 1000 hyperedges \n",
    "    # print(len(h))\n",
    "    \n",
    "    # Identify possibly isolated nodes ? \n",
    "    unique_nodes = set()\n",
    "    for e in h:\n",
    "        unique_nodes.update(e)\n",
    "    isolated = set(range(nb_points)).difference(unique_nodes)    \n",
    "    trueZ_rep= [trueZ[i] for i in unique_nodes]\n",
    "    #nb_nodes = len(unique_nodes)\n",
    "    #nb_isolates = nb_points - nb_nodes\n",
    "    \n",
    "    # Write down this hypergraph to analyse it with HyperSBM and with Chodrow's method\n",
    "    dirname = \"data_3linecluster/rep_\" + str(rep) +\"/\"\n",
    "    os.makedirs(dirname)\n",
    "    filename = str(dirname) +\"hyperedges.txt\"\n",
    "    with open(filename, \"w\") as fichier:\n",
    "        for edge in h: \n",
    "            fichier.write(str(','.join(str(x+1) for x in edge)) + \"\\n\") # we add +1 to count from 1 to n\n",
    " \n",
    "    filename = str(dirname) +\"isolated.txt\"\n",
    "    with open(filename, \"w\") as fichier:\n",
    "        for node in isolated: \n",
    "            fichier.write(str(node) + \"\\n\") \n",
    "    \n",
    "    filename = str(dirname) +\"true_clusters.txt\"\n",
    "    with open(filename, \"w\") as fichier:\n",
    "        for cluster in trueZ_rep: \n",
    "            fichier.write(str(cluster) + \"\\n\") \n",
    "\n",
    "        \n",
    "# end of generation\n",
    "\n"
   ]
  },
  {
   "cell_type": "code",
   "execution_count": 16,
   "metadata": {},
   "outputs": [
    {
     "name": "stdout",
     "output_type": "stream",
     "text": [
      "587.7\n"
     ]
    }
   ],
   "source": [
    "print(np.mean(nb_hyperedges))"
   ]
  },
  {
   "cell_type": "code",
   "execution_count": null,
   "metadata": {},
   "outputs": [],
   "source": []
  }
 ],
 "metadata": {
  "kernelspec": {
   "display_name": "Python 3 (ipykernel)",
   "language": "python",
   "name": "python3"
  },
  "language_info": {
   "codemirror_mode": {
    "name": "ipython",
    "version": 3
   },
   "file_extension": ".py",
   "mimetype": "text/x-python",
   "name": "python",
   "nbconvert_exporter": "python",
   "pygments_lexer": "ipython3",
   "version": "3.9.7"
  }
 },
 "nbformat": 4,
 "nbformat_minor": 4
}
